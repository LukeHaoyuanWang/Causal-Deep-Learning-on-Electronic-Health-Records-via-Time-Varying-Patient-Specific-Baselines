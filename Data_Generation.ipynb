{
 "cells": [
  {
   "cell_type": "markdown",
   "metadata": {},
   "source": [
    "## Data Generation "
   ]
  },
  {
   "cell_type": "markdown",
   "metadata": {},
   "source": [
    "The heart attack dataset is a simulated electronic health record from a simple point process model. This dataset records 1000 patients on 10 variables for each day over 10 years."
   ]
  },
  {
   "cell_type": "markdown",
   "metadata": {},
   "source": [
    "# Data Dictionary"
   ]
  },
  {
   "cell_type": "markdown",
   "metadata": {},
   "source": [
    "| **Variable**              | **Var name** | **Type**                                                                 |\n",
    "|---------------------------|--------------|--------------------------------------------------------------------------|\n",
    "| Age                       | age          | Continuous                                                               |\n",
    "| Cardiovascular Risk       | cvr          | Continuous, range from 0 to 1, indicating the baseline risk of CV events. Fixed for each patient. |\n",
    "| **Medication**     |              |                                                                          |\n",
    "| Beta Blocker              | BetaB        | Binary, patient's medication lasted for 1 year (365 days).               |\n",
    "| Statins                   | Statins      | Binary, patient's medication lasted for 1 year (365 days).               |\n",
    "| Acid Reducer              | AcidR        | Binary, patient's medication lasted for 1 year (365 days).               |\n",
    "| Vioxx                     | Vioxx        | Binary, patient's medication lasted for 1 year (365 days).               |\n",
    "| **Disease**               |              |                                                                          |\n",
    "| Hypertension              | HT           | Binary, the disease lasts for 1 month from onset (30 days).              |\n",
    "| High Cholesterol          | HC           | Binary, the disease lasts for 1 month from onset (30 days).              |\n",
    "| Arthritis                 | Arthritis    | Binary, the disease lasts for 1 month from onset (30 days).              |\n",
    "| **Primary Outcome**          |              |                                                                          |\n",
    "| Myocardial Infarction     | MI           | Binary, it occurs then stops immediately.                                |\n"
   ]
  },
  {
   "cell_type": "markdown",
   "metadata": {},
   "source": [
    "# Simulating Process\n",
    "\n",
    "Patients are independent. For each patient, we follow the same process:\n",
    "\n",
    "1. **Initialization:**\n",
    "    - Determine **Cardiovascular Risk (CVR)**: Sample from a uniform distribution $U(0,1)$. This value is fixed over time.\n",
    "    - Determine **Age**: Start from the patient's 40th birthday.\n",
    "    - Initialize all other events as 0.\n",
    "\n",
    "2. **Start Simulation:**\n",
    "    - Set the starting day as $\\text{day} = 0$ (the first day).\n",
    "    - Initialize $t_0 = 0$.\n",
    "\n",
    "3. **Daily Event Check:**\n",
    "    - When $\\text{day} = t_0$, check today’s status for the 8 events.\n",
    "    - Only sample the events that are currently 0.\n",
    "\n",
    "4. **Define Intensity Parameters:**\n",
    "    - According to the relationships defined in the model, set the **intensity parameters** (rate of the exponential distribution) for the events that are 0.\n",
    "    - Expoential distribution guarantees that events are expected to happen continuously and independently at a constant average rate.\n",
    "    - Intensity scores allow you to model the randomness of when events happen, but in a way that reflects how risky or likely each event is for the patient. \n",
    "    - For the 8 binary variables, each has intensity parameter which is a function of its parents. We assume the time to event follows exponential distribution with parameter determined by current status of a patient.\n",
    "\n",
    "5. **Sample Time to Next Occurrence:**\n",
    "    - For each event that is 0, sample the **time to next occurrence** from the exponential distribution.\n",
    "\n",
    "6. **Determine Next Event:**\n",
    "    - Identify the next earliest event by finding the smallest sampled time to the event.\n",
    "    - Let this event happen on $\\text{day} = t$.\n",
    "\n",
    "7. **Event Occurrence:**\n",
    "    - When $\\text{day} = t$, the picked event occurs (turn it to 1):\n",
    "      1. If it is a **drug**, it stays 365 days (or another specified duration, e.g., 100/60/30 days).\n",
    "      2. If it is a **disease**, it stays for 30 days.\n",
    "      3. If it is **Myocardial Infarction (MI)**, it only happens on that day.\n",
    "\n",
    "8. **Update Time:**\n",
    "    - Set $t_0 = t$.\n",
    "\n",
    "9. **Repeat:**\n",
    "    - Repeat steps 3-8 until the end of the simulation.\n",
    "\n",
    "\n"
   ]
  },
  {
   "cell_type": "markdown",
   "metadata": {},
   "source": [
    "# Expected Result"
   ]
  },
  {
   "cell_type": "markdown",
   "metadata": {},
   "source": [
    "1000*3650*10 numpy array, where:\n",
    "1)\t1000 indicating 1000 patients\n",
    "2)\t3650 indicating 3650 days\n",
    "3)\t10 indicating 10 variables.\n"
   ]
  }
 ],
 "metadata": {
  "language_info": {
   "name": "python"
  }
 },
 "nbformat": 4,
 "nbformat_minor": 2
}
